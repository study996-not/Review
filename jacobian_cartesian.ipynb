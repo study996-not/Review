{
 "cells": [
  {
   "cell_type": "code",
   "execution_count": 2,
   "metadata": {},
   "outputs": [
    {
     "data": {
      "text/plain": [
       "array([[0., 0., 0.],\n",
       "       [1., 0., 0.],\n",
       "       [1., 1., 0.]])"
      ]
     },
     "execution_count": 2,
     "metadata": {},
     "output_type": "execute_result"
    }
   ],
   "source": [
    "# 对于三角形ABC，已知R_AB,R_BC,A_ABC,得到相应的笛卡尔坐标\n",
    "import numpy as np\n",
    "def jacobian_to_cartesian_three_atom_modified(r12, r23, theta):\n",
    "    \"\"\"\n",
    "    Convert three-atom Jacobian coordinates to Cartesian coordinates with atom 1 as the origin \n",
    "    and atom 2 as the point on the axis.\n",
    "    \n",
    "    Parameters:\n",
    "        r12 (float): Bond length between atom 1 and atom 2.\n",
    "        r23 (float): Bond length between atom 2 and atom 3.\n",
    "        theta (float): Bond angle between atoms 1-2-3 in radians.\n",
    "    \n",
    "    Returns:\n",
    "        numpy.ndarray: Cartesian coordinates of atoms 1, 2, and 3 in a (3, 3) array.\n",
    "    \"\"\"\n",
    "    # Define the Cartesian coordinates of atom 1 as the origin\n",
    "    atom1_coords = np.array([0, 0, 0])\n",
    "    \n",
    "    # Calculate the x, y, z coordinates of atom 2 relative to atom 1\n",
    "    atom2_x = r12\n",
    "    atom2_y = 0\n",
    "    atom2_coords = np.array([atom2_x, atom2_y, 0])\n",
    "    \n",
    "    # Calculate the x, y, z coordinates of atom 3 relative to atom 2\n",
    "    atom3_x = r23 * np.cos(theta)\n",
    "    atom3_y = r23 * np.sin(theta)\n",
    "    atom3_coords = np.array([atom2_x + atom3_x, atom3_y, 0])\n",
    "    \n",
    "    # Translate the coordinates of atoms 2 and 3 relative to atom 1\n",
    "    atom2_coords += atom1_coords\n",
    "    atom3_coords += atom1_coords\n",
    "    \n",
    "    # Combine the coordinates of atoms 1, 2, and 3 into a (3, 3) array\n",
    "    cartesian_coords = np.vstack((atom1_coords, atom2_coords, atom3_coords))\n",
    "    print()\n",
    "    return cartesian_coords\n",
    "\n",
    "# Test the modified function\n",
    "jacobian_coords_modified = jacobian_to_cartesian_three_atom_modified(1.0, 1.0, np.pi / 2)\n",
    "jacobian_coords_modified\n"
   ]
  },
  {
   "cell_type": "code",
   "execution_count": 7,
   "metadata": {},
   "outputs": [
    {
     "name": "stdout",
     "output_type": "stream",
     "text": [
      "Cartesian coordinates:\n",
      "[[0. 0. 0.]\n",
      " [2. 0. 0.]\n",
      " [1. 1. 0.]]\n"
     ]
    }
   ],
   "source": [
    "import numpy as np\n",
    "\n",
    "def jacobi_to_cartesian(r_AB, r_C, theta):\n",
    "    \"\"\"\n",
    "    Convert three-atom Jacobi coordinates to Cartesian coordinates.\n",
    "\n",
    "    Parameters:\n",
    "        r_AB (float): Distance between atoms A and B.\n",
    "        r_C (float): Distance between the center of mass of AB and atom C.\n",
    "        theta (float): Angle between AB and C in radians.\n",
    "\n",
    "    Returns:\n",
    "        numpy.ndarray: Cartesian coordinates of atoms A, B, and C.\n",
    "    \"\"\"\n",
    "    # Define positions of atoms A and B in Jacobi coordinates\n",
    "    x_A, y_A, z_A = 0, 0, 0\n",
    "    x_B, y_B, z_B = r_AB, 0, 0\n",
    "    \n",
    "    # Calculate the position of the center of mass of AB\n",
    "    x_AB_cm = (x_A + x_B) / 2\n",
    "    y_AB_cm = (y_A + y_B) / 2\n",
    "    z_AB_cm = (z_A + z_B) / 2\n",
    "    \n",
    "    # Calculate the position of atom C in the plane of AB\n",
    "    x_C = x_AB_cm + r_C * np.cos(theta)\n",
    "    y_C = y_AB_cm + r_C * np.sin(theta)\n",
    "    z_C = z_AB_cm\n",
    "    \n",
    "    return np.array([[x_A, y_A, z_A],\n",
    "                     [x_B, y_B, z_B],\n",
    "                     [x_C, y_C, z_C]])\n",
    "\n",
    "# Example usage:\n",
    "r_AB = 2.0\n",
    "r_C = 1.0\n",
    "theta = np.pi / 2  \n",
    "cartesian_coords = jacobi_to_cartesian(r_AB, r_C, theta)\n",
    "print(\"Cartesian coordinates:\")\n",
    "print(cartesian_coords)\n"
   ]
  },
  {
   "cell_type": "code",
   "execution_count": 14,
   "metadata": {},
   "outputs": [
    {
     "name": "stdout",
     "output_type": "stream",
     "text": [
      "Equivalent Jacobi parameters:\n",
      "r_1: 2.0, r_2: 2.0, theta: 1.318116071652818\n"
     ]
    }
   ],
   "source": [
    "import numpy as np\n",
    "\n",
    "def convert_jacobi_params(r_AB, r_C, theta):\n",
    "    \"\"\"\n",
    "    Convert three-atom Jacobi coordinates to equivalent Jacobi coordinates.\n",
    "\n",
    "    Parameters:\n",
    "        r_AB (float): Distance between atoms A and B.\n",
    "        r_C (float): Distance between the center of mass of AB and atom C.\n",
    "        theta (float): Angle between AB and C in radians.\n",
    "\n",
    "    Returns:\n",
    "        float: Equivalent bond length (r_1 or r_2).\n",
    "        float: Equivalent bond length (r_1 or r_2).\n",
    "        float: Equivalent bond angle (theta).\n",
    "    \"\"\"\n",
    "    # Calculate equivalent bond lengths and angle based on geometric relationships\n",
    "    r_1 = r_AB + r_C * np.cos(theta)\n",
    "    r_2 = np.abs(r_AB - r_C * np.cos(theta))\n",
    "    theta_new = np.arccos((r_AB**2 + r_C**2 - r_1**2) / (2 * r_AB * r_C))\n",
    "    \n",
    "    return r_1, r_2, theta_new\n",
    "\n",
    "# Example usage:\n",
    "r_AB = 2.0\n",
    "r_C = 1.0\n",
    "theta = np.pi / 2  \n",
    "r_1, r_2, theta_new = convert_jacobi_params(r_AB, r_C, theta)\n",
    "print(\"Equivalent Jacobi parameters:\")\n",
    "print(f\"r_1: {r_1}, r_2: {r_2}, theta: {theta_new}\")\n"
   ]
  }
 ],
 "metadata": {
  "kernelspec": {
   "display_name": "pymolpro",
   "language": "python",
   "name": "python3"
  },
  "language_info": {
   "codemirror_mode": {
    "name": "ipython",
    "version": 3
   },
   "file_extension": ".py",
   "mimetype": "text/x-python",
   "name": "python",
   "nbconvert_exporter": "python",
   "pygments_lexer": "ipython3",
   "version": "3.11.8"
  }
 },
 "nbformat": 4,
 "nbformat_minor": 2
}
